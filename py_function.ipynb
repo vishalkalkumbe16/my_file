{
 "cells": [
  {
   "cell_type": "code",
   "execution_count": null,
   "id": "5e02a5a0",
   "metadata": {},
   "outputs": [],
   "source": [
    "# syntax \n",
    "def function_name(argument/parameter):\n",
    "    body\n",
    "    return value"
   ]
  },
  {
   "cell_type": "code",
   "execution_count": 4,
   "id": "c2780a65",
   "metadata": {},
   "outputs": [],
   "source": [
    "import py1"
   ]
  },
  {
   "cell_type": "code",
   "execution_count": null,
   "id": "93de5b8d",
   "metadata": {},
   "outputs": [],
   "source": [
    "# function_name(arguments)  # formal argument"
   ]
  },
  {
   "cell_type": "code",
   "execution_count": 11,
   "id": "eed325ab",
   "metadata": {},
   "outputs": [],
   "source": [
    "def add(a,b):\n",
    "    c = a+b\n",
    "    print(c)\n",
    "   "
   ]
  },
  {
   "cell_type": "code",
   "execution_count": 12,
   "id": "065a0c6e",
   "metadata": {},
   "outputs": [
    {
     "name": "stdout",
     "output_type": "stream",
     "text": [
      "enter the value 1...67\n",
      "enter the value 2...78\n",
      "145\n"
     ]
    }
   ],
   "source": [
    "x = int(input('enter the value 1...'))\n",
    "y = int(input('enter the value 2...'))              # no arguments and no returns value\n",
    "add(x,y)"
   ]
  },
  {
   "cell_type": "code",
   "execution_count": 13,
   "id": "10b81b52",
   "metadata": {},
   "outputs": [],
   "source": [
    "def add(a,b):\n",
    "    c =40+30\n",
    "    print('c')"
   ]
  },
  {
   "cell_type": "code",
   "execution_count": null,
   "id": "58cc6637",
   "metadata": {},
   "outputs": [],
   "source": []
  },
  {
   "cell_type": "code",
   "execution_count": 14,
   "id": "8d516706",
   "metadata": {},
   "outputs": [
    {
     "name": "stdout",
     "output_type": "stream",
     "text": [
      "enter num1..90\n",
      "enter num2...90\n",
      "c\n"
     ]
    }
   ],
   "source": [
    "b = int(input('enter num1..'))\n",
    "f = int(input('enter num2...'))\n",
    "add(b,f)\n",
    "              \n",
    "\n"
   ]
  },
  {
   "cell_type": "code",
   "execution_count": 15,
   "id": "eda961b5",
   "metadata": {},
   "outputs": [
    {
     "name": "stdout",
     "output_type": "stream",
     "text": [
      "c\n"
     ]
    }
   ],
   "source": [
    "t = add (100,200)\n"
   ]
  },
  {
   "cell_type": "code",
   "execution_count": 16,
   "id": "6247ea35",
   "metadata": {},
   "outputs": [
    {
     "data": {
      "text/plain": [
       "NoneType"
      ]
     },
     "execution_count": 16,
     "metadata": {},
     "output_type": "execute_result"
    }
   ],
   "source": [
    "type(t)"
   ]
  },
  {
   "cell_type": "code",
   "execution_count": 17,
   "id": "6889ed68",
   "metadata": {},
   "outputs": [],
   "source": [
    "def add(a,b):\n",
    "    c = a+b\n",
    "    return c"
   ]
  },
  {
   "cell_type": "code",
   "execution_count": 18,
   "id": "d88f5719",
   "metadata": {},
   "outputs": [],
   "source": [
    "t = add(23,45)"
   ]
  },
  {
   "cell_type": "code",
   "execution_count": 19,
   "id": "87363e59",
   "metadata": {},
   "outputs": [
    {
     "data": {
      "text/plain": [
       "68"
      ]
     },
     "execution_count": 19,
     "metadata": {},
     "output_type": "execute_result"
    }
   ],
   "source": [
    "t"
   ]
  },
  {
   "cell_type": "code",
   "execution_count": null,
   "id": "18adc832",
   "metadata": {},
   "outputs": [],
   "source": [
    "def even_odd (num):\n",
    "    if num%2==0:\n",
    "        return True\n",
    "    else:\n",
    "        return False\n",
    "def take_input():\n",
    "    x = int(input('enter the number..'))\n",
    "    return x\n",
    "def main():\n",
    "    inp = take_input()\n",
    "    status = even_odd(inp)\n",
    "    if status:\n",
    "        print(\"given number is even\")\n",
    "    else:\n",
    "        print(\"given number is odd\")\n",
    "    print(\"main successufully executed\")\n",
    "        "
   ]
  },
  {
   "cell_type": "code",
   "execution_count": null,
   "id": "32698503",
   "metadata": {},
   "outputs": [],
   "source": [
    "main()"
   ]
  },
  {
   "cell_type": "markdown",
   "id": "11f67b70",
   "metadata": {},
   "source": []
  },
  {
   "cell_type": "code",
   "execution_count": null,
   "id": "098e47af",
   "metadata": {},
   "outputs": [],
   "source": [
    "def add():\n",
    "    x = 90\n",
    "    y = 90\n",
    "    c = x+y\n",
    "    return 'c'"
   ]
  },
  {
   "cell_type": "code",
   "execution_count": null,
   "id": "fd4e301c",
   "metadata": {},
   "outputs": [],
   "source": [
    "c "
   ]
  },
  {
   "cell_type": "code",
   "execution_count": null,
   "id": "4bab373d",
   "metadata": {},
   "outputs": [],
   "source": [
    "z"
   ]
  },
  {
   "cell_type": "code",
   "execution_count": null,
   "id": "8c7f7c58",
   "metadata": {},
   "outputs": [],
   "source": [
    "def add(a,b):\n",
    "    c = a+b\n",
    "    print (c)"
   ]
  },
  {
   "cell_type": "code",
   "execution_count": null,
   "id": "17e9389b",
   "metadata": {},
   "outputs": [],
   "source": [
    "x = int(input('enter no'))\n",
    "y = int(input('enter no'))\n",
    "add(x,y)"
   ]
  },
  {
   "cell_type": "code",
   "execution_count": null,
   "id": "7ef37224",
   "metadata": {},
   "outputs": [],
   "source": [
    "def add():\n",
    "    a=90\n",
    "    b=90\n",
    "    c=a+b\n",
    "    return c"
   ]
  },
  {
   "cell_type": "code",
   "execution_count": null,
   "id": "ff854eff",
   "metadata": {},
   "outputs": [],
   "source": []
  },
  {
   "cell_type": "code",
   "execution_count": null,
   "id": "0042e2e8",
   "metadata": {},
   "outputs": [],
   "source": [
    "text == c"
   ]
  },
  {
   "cell_type": "code",
   "execution_count": null,
   "id": "e023c21f",
   "metadata": {},
   "outputs": [],
   "source": [
    "def add(x,y):\n",
    "    c = x +y\n",
    "    return c"
   ]
  },
  {
   "cell_type": "code",
   "execution_count": null,
   "id": "2850ddf9",
   "metadata": {},
   "outputs": [],
   "source": [
    "add(80,80)"
   ]
  },
  {
   "cell_type": "code",
   "execution_count": null,
   "id": "7cc02840",
   "metadata": {},
   "outputs": [],
   "source": [
    "text = add(80,80)"
   ]
  },
  {
   "cell_type": "code",
   "execution_count": null,
   "id": "f1a7786a",
   "metadata": {},
   "outputs": [],
   "source": [
    "text"
   ]
  },
  {
   "cell_type": "code",
   "execution_count": null,
   "id": "269a49ec",
   "metadata": {},
   "outputs": [],
   "source": [
    "def add():\n",
    "    x = 30\n",
    "    y = 50\n",
    "    return x+y"
   ]
  },
  {
   "cell_type": "code",
   "execution_count": null,
   "id": "ef9da03b",
   "metadata": {},
   "outputs": [],
   "source": [
    "add()"
   ]
  },
  {
   "cell_type": "code",
   "execution_count": null,
   "id": "590c263d",
   "metadata": {},
   "outputs": [],
   "source": [
    "add()"
   ]
  },
  {
   "cell_type": "code",
   "execution_count": null,
   "id": "65c52301",
   "metadata": {},
   "outputs": [],
   "source": [
    "# types of argument\n",
    "=====================\n",
    "* positional argumrnts\n",
    "* default arguments\n",
    "* variable length arguments\n",
    "* keybord arguments\n",
    "* variable length keyboard arguments\n"
   ]
  },
  {
   "cell_type": "code",
   "execution_count": null,
   "id": "566e1389",
   "metadata": {},
   "outputs": [],
   "source": [
    "#  positional arguments\n"
   ]
  },
  {
   "cell_type": "code",
   "execution_count": null,
   "id": "8fea55a1",
   "metadata": {},
   "outputs": [],
   "source": [
    "def employ_details(emp_name,emp_sal,emp_mail_id,emp_position,emp_id):\n",
    "    print(\"emp_name:\",emp_name)\n",
    "    print(\"emp_sal:\",emp_sal)\n",
    "    print(\"emp_mail_id:\",emp_mail_id)\n",
    "    print(\"emp_position:\",emp_position)\n",
    "    print(\"emp_id:\",emp_id)"
   ]
  },
  {
   "cell_type": "code",
   "execution_count": null,
   "id": "38ddad11",
   "metadata": {},
   "outputs": [],
   "source": [
    "employ_details('vishal',2000000,'vishal@gmail.com','DE',9999)"
   ]
  },
  {
   "cell_type": "code",
   "execution_count": null,
   "id": "de56bd0d",
   "metadata": {},
   "outputs": [],
   "source": [
    "employ_details()"
   ]
  },
  {
   "cell_type": "code",
   "execution_count": 28,
   "id": "41d55089",
   "metadata": {},
   "outputs": [],
   "source": [
    "def details(name,age,gender,pan,aadhar,roll='no roll'):\n",
    "    print(\"name:\",name)\n",
    "    print(\"age:\",age)\n",
    "    print(\"gender:\",gender)                                  # no of arguments == actual arguments\n",
    "    print(\"pan:\",pan)\n",
    "    print(\"aadhar:\",aadhar)\n",
    "    print(\"roll:\", roll)"
   ]
  },
  {
   "cell_type": "code",
   "execution_count": 29,
   "id": "1a14f85d",
   "metadata": {},
   "outputs": [
    {
     "name": "stdout",
     "output_type": "stream",
     "text": [
      "name: vishal\n",
      "age: 27\n",
      "gender: male\n",
      "pan: ixrpk2537\n",
      "aadhar: 384758595757\n",
      "roll: 90\n"
     ]
    }
   ],
   "source": [
    "details('vishal',27,'male','ixrpk2537',384758595757,90)"
   ]
  },
  {
   "cell_type": "code",
   "execution_count": 30,
   "id": "bddc53c4",
   "metadata": {},
   "outputs": [],
   "source": [
    "def bank_statement(st):\n",
    "    if st =='31_march_2020':\n",
    "        return True\n",
    "    else:\n",
    "        return False\n",
    "def _input():\n",
    "        st_d = input(\"enter the start date for bank statement \")\n",
    "        end_d = input(\"enter end date of bank statement\")\n",
    "        return end_d\n",
    "        return st_d\n",
    "def main():\n",
    "    st = _input()\n",
    "    status = bank_statement(st)\n",
    "    if status:\n",
    "        print(\"process successful\")\n",
    "    else:\n",
    "        print(\"faild\")\n",
    "\n",
    "\n",
    "    \n",
    "        \n",
    "        \n",
    "        "
   ]
  },
  {
   "cell_type": "code",
   "execution_count": 31,
   "id": "a8c8b247",
   "metadata": {},
   "outputs": [
    {
     "name": "stdout",
     "output_type": "stream",
     "text": [
      "enter the start date for bank statement 31_march_2020\n",
      "enter end date of bank statement31_april_2020\n",
      "faild\n"
     ]
    }
   ],
   "source": [
    "main()"
   ]
  },
  {
   "cell_type": "code",
   "execution_count": null,
   "id": "284b4505",
   "metadata": {},
   "outputs": [],
   "source": [
    "st"
   ]
  },
  {
   "cell_type": "code",
   "execution_count": 3,
   "id": "d7a4fae2",
   "metadata": {},
   "outputs": [
    {
     "name": "stdout",
     "output_type": "stream",
     "text": [
      "i am from india\n",
      "i am from england\n",
      "i am from norway\n",
      "i am from us\n"
     ]
    }
   ],
   "source": [
    "def my_function(country = 'us'):\n",
    "     print(\"i am from \"+ country)\n",
    "my_function('india')\n",
    "my_function('england')\n",
    "my_function('norway')\n",
    "my_function()\n",
    "    "
   ]
  },
  {
   "cell_type": "code",
   "execution_count": 4,
   "id": "ab97e4a8",
   "metadata": {},
   "outputs": [
    {
     "name": "stdout",
     "output_type": "stream",
     "text": [
      "i am from us\n"
     ]
    }
   ],
   "source": [
    "my_function()"
   ]
  },
  {
   "cell_type": "code",
   "execution_count": 5,
   "id": "7ccca3ec",
   "metadata": {},
   "outputs": [],
   "source": [
    "def my_function(country = 'us'):\n",
    "      print(\"i am from \"+ country)\n",
    "     "
   ]
  },
  {
   "cell_type": "code",
   "execution_count": 6,
   "id": "4766fc64",
   "metadata": {},
   "outputs": [
    {
     "name": "stdout",
     "output_type": "stream",
     "text": [
      "i am from us\n"
     ]
    }
   ],
   "source": [
    "my_function()"
   ]
  },
  {
   "cell_type": "code",
   "execution_count": 7,
   "id": "06e0fca6",
   "metadata": {},
   "outputs": [],
   "source": [
    "def my_function(first_name,last_name):\n",
    "    print(\"first_name:\",first_name)\n",
    "    print(\"last_name:\", last_name)"
   ]
  },
  {
   "cell_type": "code",
   "execution_count": 8,
   "id": "8188858f",
   "metadata": {},
   "outputs": [
    {
     "name": "stdout",
     "output_type": "stream",
     "text": [
      "first_name: sandip\n",
      "last_name: ghumare\n"
     ]
    }
   ],
   "source": [
    "my_function('sandip','ghumare')"
   ]
  },
  {
   "cell_type": "code",
   "execution_count": 11,
   "id": "6c5a0756",
   "metadata": {},
   "outputs": [],
   "source": [
    "def odd_even(num):\n",
    "    if num%2!=0:\n",
    "        return True\n",
    "    else:\n",
    "        return False\n",
    "def take_input():\n",
    "    x = int(input(\"enter the number..::\"))\n",
    "    return x\n",
    "def main():\n",
    "    inp = take_input()\n",
    "    status = odd_even(inp)\n",
    "    if status:\n",
    "        print(\"given number is odd...\")\n",
    "    else:\n",
    "        print(\"given number is even...\")\n",
    "    print(\"procced...\")\n",
    "    \n",
    "    "
   ]
  },
  {
   "cell_type": "code",
   "execution_count": 12,
   "id": "f56e0785",
   "metadata": {},
   "outputs": [
    {
     "name": "stdout",
     "output_type": "stream",
     "text": [
      "enter the number..::80\n",
      "given number is even...\n",
      "procced...\n"
     ]
    }
   ],
   "source": [
    "main()"
   ]
  },
  {
   "cell_type": "code",
   "execution_count": null,
   "id": "1d215b43",
   "metadata": {},
   "outputs": [],
   "source": [
    "def odd_even(num):\n",
    "    if num%2!=0:\n",
    "        return True\n",
    "    else:\n",
    "        return False\n",
    "        \n",
    "def take_input():\n",
    "    x = int(input(\"enter the number..::\"))\n",
    "    return x\n",
    "def main():\n",
    "    inp = take_input()\n",
    "    status = odd_even(inp)\n",
    "    if status:\n",
    "        print(\"given number is odd...\")\n",
    "    else:\n",
    "        print(\"given number is even...\")\n",
    "    print(\"procced...\")\n",
    "    "
   ]
  },
  {
   "cell_type": "code",
   "execution_count": null,
   "id": "e06e4dc9",
   "metadata": {},
   "outputs": [],
   "source": [
    "main()"
   ]
  },
  {
   "cell_type": "code",
   "execution_count": null,
   "id": "d54617e6",
   "metadata": {},
   "outputs": [],
   "source": [
    "main()"
   ]
  },
  {
   "cell_type": "code",
   "execution_count": 8,
   "id": "6ab12f52",
   "metadata": {},
   "outputs": [],
   "source": [
    "cred_ = (\"admin\",\"admin@123\")\n",
    "def db_connection(username,password):\n",
    "    if username == \"admin\":\n",
    "        if password == \"admin@123\":\n",
    "            return \"success\"\n",
    "        else:\n",
    "            return \"failed\"\n",
    "        \n",
    "def db_connection_closed():\n",
    "    print(\"db_connection_closed\")\n",
    "    \n",
    "def main():\n",
    "    username = input(\"enter the username:\")\n",
    "    password = input(\"enter the passord:\")\n",
    "    status = db_connection(username,password)\n",
    "    if status == \"success\":\n",
    "        print(\"db_connection successfuly\")\n",
    "        print(\"db_transfer of data\")\n",
    "        db_connection_closed()\n",
    "    else:\n",
    "        print(\"please check cred_\")\n",
    "    print(\"program excecuted\")"
   ]
  },
  {
   "cell_type": "code",
   "execution_count": 9,
   "id": "8dd7aeb7",
   "metadata": {},
   "outputs": [
    {
     "name": "stdout",
     "output_type": "stream",
     "text": [
      "enter the username:admin\n",
      "enter the passord:admin@123\n",
      "db_connection successfuly\n",
      "db_transfer of data\n",
      "db_connection_closed\n",
      "program excecuted\n"
     ]
    }
   ],
   "source": [
    "main()"
   ]
  },
  {
   "cell_type": "code",
   "execution_count": null,
   "id": "d3a7068e",
   "metadata": {},
   "outputs": [],
   "source": []
  },
  {
   "cell_type": "code",
   "execution_count": null,
   "id": "9f70b46b",
   "metadata": {},
   "outputs": [],
   "source": []
  },
  {
   "cell_type": "code",
   "execution_count": null,
   "id": "1daa5f64",
   "metadata": {},
   "outputs": [],
   "source": []
  },
  {
   "cell_type": "code",
   "execution_count": 20,
   "id": "6cfb5e0f",
   "metadata": {},
   "outputs": [],
   "source": [
    "\n",
    "\n",
    "def _info(name_,sirname):\n",
    "    if name_ == \"vishal\":\n",
    "        if sirname == \"kalkumbe\":\n",
    "            return \"true\"\n",
    "        else:\n",
    "            return 'false'\n",
    "def correct():\n",
    "    print(\"program successed\")\n",
    "def wrong():\n",
    "    print(\"its wrong name...\")\n",
    "def main():\n",
    "    name_ =input(\"enter the name..\")\n",
    "    sirname = input(\"enter the sirname....\")\n",
    "    status = _info(name_,sirname)\n",
    "    if status == 'true':\n",
    "        print(\"correct name\")\n",
    "        correct()\n",
    "    else:\n",
    "        print(\"failed\")\n",
    "        wrong()\n",
    "        \n",
    "    "
   ]
  },
  {
   "cell_type": "code",
   "execution_count": 21,
   "id": "647cb2e6",
   "metadata": {},
   "outputs": [
    {
     "name": "stdout",
     "output_type": "stream",
     "text": [
      "enter the name..vishal\n",
      "enter the sirname....kalkumbe\n",
      "correct name\n",
      "program successed\n"
     ]
    }
   ],
   "source": [
    "main()"
   ]
  },
  {
   "cell_type": "code",
   "execution_count": null,
   "id": "81182191",
   "metadata": {},
   "outputs": [],
   "source": [
    "#  def str_concet(str1,str2):\n",
    "    # return str1+str2"
   ]
  },
  {
   "cell_type": "code",
   "execution_count": 9,
   "id": "9514764b",
   "metadata": {},
   "outputs": [],
   "source": [
    "def take_fulll_name(x):\n",
    "    first_name,last_name = split_username_password(x)\n",
    "    return first_name,last_name\n",
    "\n",
    "def split_username_password(z):\n",
    "    f_name = z.split(\" \")[0]\n",
    "    l_name = z.split(\" \")[1]\n",
    "    return f_name,l_name\n",
    "def main():\n",
    "    name = input(\"enter the name:..\")\n",
    "    f,l = take_fulll_name(name)\n",
    "    print(\"first name:..\",f)\n",
    "    print(\"last name:...\",l)\n",
    "    print(\"end\")\n"
   ]
  },
  {
   "cell_type": "code",
   "execution_count": 10,
   "id": "bb83bec9",
   "metadata": {},
   "outputs": [
    {
     "name": "stdout",
     "output_type": "stream",
     "text": [
      "enter the name:..vishal kalkumbe\n",
      "first name:.. vishal\n",
      "last name:... kalkumbe\n",
      "end\n"
     ]
    }
   ],
   "source": [
    "main()"
   ]
  },
  {
   "cell_type": "code",
   "execution_count": null,
   "id": "6b858899",
   "metadata": {},
   "outputs": [],
   "source": [
    "# varibale iength argument for mathematical calculation"
   ]
  },
  {
   "cell_type": "code",
   "execution_count": 1,
   "id": "3b015163",
   "metadata": {},
   "outputs": [],
   "source": [
    "def add_cal(*args):\n",
    "    total = 0\n",
    "    for i in args:\n",
    "        total = total+i\n",
    "    print(total)"
   ]
  },
  {
   "cell_type": "code",
   "execution_count": 2,
   "id": "aa2b9a75",
   "metadata": {},
   "outputs": [
    {
     "name": "stdout",
     "output_type": "stream",
     "text": [
      "40\n"
     ]
    }
   ],
   "source": [
    "add_cal(20,20)"
   ]
  },
  {
   "cell_type": "code",
   "execution_count": 3,
   "id": "113cabad",
   "metadata": {},
   "outputs": [
    {
     "ename": "TypeError",
     "evalue": "unsupported operand type(s) for +: 'int' and 'list'",
     "output_type": "error",
     "traceback": [
      "\u001b[1;31m---------------------------------------------------------------------------\u001b[0m",
      "\u001b[1;31mTypeError\u001b[0m                                 Traceback (most recent call last)",
      "\u001b[1;32m~\\AppData\\Local\\Temp\\ipykernel_9536\\1093661016.py\u001b[0m in \u001b[0;36m<module>\u001b[1;34m\u001b[0m\n\u001b[1;32m----> 1\u001b[1;33m \u001b[0madd_cal\u001b[0m\u001b[1;33m(\u001b[0m\u001b[1;36m40\u001b[0m\u001b[1;33m,\u001b[0m\u001b[1;36m40\u001b[0m\u001b[1;33m,\u001b[0m\u001b[1;33m[\u001b[0m\u001b[1;36m40\u001b[0m\u001b[1;33m,\u001b[0m\u001b[1;36m40\u001b[0m\u001b[1;33m,\u001b[0m\u001b[1;36m40\u001b[0m\u001b[1;33m]\u001b[0m\u001b[1;33m)\u001b[0m\u001b[1;33m\u001b[0m\u001b[1;33m\u001b[0m\u001b[0m\n\u001b[0m",
      "\u001b[1;32m~\\AppData\\Local\\Temp\\ipykernel_9536\\3593712039.py\u001b[0m in \u001b[0;36madd_cal\u001b[1;34m(*args)\u001b[0m\n\u001b[0;32m      2\u001b[0m     \u001b[0mtotal\u001b[0m \u001b[1;33m=\u001b[0m \u001b[1;36m0\u001b[0m\u001b[1;33m\u001b[0m\u001b[1;33m\u001b[0m\u001b[0m\n\u001b[0;32m      3\u001b[0m     \u001b[1;32mfor\u001b[0m \u001b[0mi\u001b[0m \u001b[1;32min\u001b[0m \u001b[0margs\u001b[0m\u001b[1;33m:\u001b[0m\u001b[1;33m\u001b[0m\u001b[1;33m\u001b[0m\u001b[0m\n\u001b[1;32m----> 4\u001b[1;33m         \u001b[0mtotal\u001b[0m \u001b[1;33m=\u001b[0m \u001b[0mtotal\u001b[0m\u001b[1;33m+\u001b[0m\u001b[0mi\u001b[0m\u001b[1;33m\u001b[0m\u001b[1;33m\u001b[0m\u001b[0m\n\u001b[0m\u001b[0;32m      5\u001b[0m     \u001b[0mprint\u001b[0m\u001b[1;33m(\u001b[0m\u001b[0mtotal\u001b[0m\u001b[1;33m)\u001b[0m\u001b[1;33m\u001b[0m\u001b[1;33m\u001b[0m\u001b[0m\n",
      "\u001b[1;31mTypeError\u001b[0m: unsupported operand type(s) for +: 'int' and 'list'"
     ]
    }
   ],
   "source": [
    "add_cal(40,40,[40,40,40])"
   ]
  },
  {
   "cell_type": "code",
   "execution_count": 9,
   "id": "74c8f113",
   "metadata": {},
   "outputs": [],
   "source": [
    "def test(*args):\n",
    "    print(args)\n",
    "    "
   ]
  },
  {
   "cell_type": "code",
   "execution_count": 10,
   "id": "d5d2c8af",
   "metadata": {},
   "outputs": [
    {
     "name": "stdout",
     "output_type": "stream",
     "text": [
      "(30, 30, 30, [30, 30, 30], 59, 50)\n"
     ]
    }
   ],
   "source": [
    "   test(30,30,30,[30,30,30],59,50)                # variable length argument    # tuple form"
   ]
  },
  {
   "cell_type": "code",
   "execution_count": 15,
   "id": "f0797a60",
   "metadata": {},
   "outputs": [],
   "source": [
    "def t(*args):                              \n",
    "    \n",
    "    print(args[4])"
   ]
  },
  {
   "cell_type": "code",
   "execution_count": 16,
   "id": "c91bd3c7",
   "metadata": {},
   "outputs": [
    {
     "name": "stdout",
     "output_type": "stream",
     "text": [
      "28\n"
     ]
    }
   ],
   "source": [
    "t(40,58,574,38,28)"
   ]
  },
  {
   "cell_type": "code",
   "execution_count": null,
   "id": "36074600",
   "metadata": {},
   "outputs": [],
   "source": [
    "# variable lenth keyword argument   (**args)        # dict form"
   ]
  },
  {
   "cell_type": "code",
   "execution_count": 33,
   "id": "6c854845",
   "metadata": {},
   "outputs": [],
   "source": [
    "def s(**args):\n",
    "    print(args)\n",
    "    "
   ]
  },
  {
   "cell_type": "code",
   "execution_count": 34,
   "id": "8f375943",
   "metadata": {},
   "outputs": [
    {
     "name": "stdout",
     "output_type": "stream",
     "text": [
      "{'name': 'vishal'}\n"
     ]
    }
   ],
   "source": [
    "s(name='vishal')"
   ]
  },
  {
   "cell_type": "code",
   "execution_count": 35,
   "id": "964062dd",
   "metadata": {},
   "outputs": [],
   "source": [
    "def _details(**kwargs):\n",
    "    print(kwargs)"
   ]
  },
  {
   "cell_type": "code",
   "execution_count": 36,
   "id": "6dd4151e",
   "metadata": {},
   "outputs": [
    {
     "name": "stdout",
     "output_type": "stream",
     "text": [
      "{'name': 'vishal', 'sirname': 'kalkumbe', 'roll_no': 999}\n"
     ]
    }
   ],
   "source": [
    "_details(name = \"vishal\",sirname=\"kalkumbe\",roll_no=999)  # variable length keyword argument in dict form"
   ]
  },
  {
   "cell_type": "code",
   "execution_count": null,
   "id": "51d3cfdc",
   "metadata": {},
   "outputs": [],
   "source": [
    "# keyword argument"
   ]
  },
  {
   "cell_type": "code",
   "execution_count": 37,
   "id": "d460c3d3",
   "metadata": {},
   "outputs": [],
   "source": [
    "def per_details(name,age,city,gender,college):\n",
    "    print('name:',name)\n",
    "    print(\"age:\",age)\n",
    "    print(\"city:\",city)\n",
    "    print(\"gender:\",gender)\n",
    "    print(\"college:\",college)"
   ]
  },
  {
   "cell_type": "code",
   "execution_count": 38,
   "id": "4dc10963",
   "metadata": {},
   "outputs": [
    {
     "name": "stdout",
     "output_type": "stream",
     "text": [
      "name: vishal\n",
      "age: 27\n",
      "city: jalna\n",
      "gender: male\n",
      "college: mss\n"
     ]
    }
   ],
   "source": [
    "per_details('vishal',27,\"jalna\",'male',\"mss\")"
   ]
  },
  {
   "cell_type": "code",
   "execution_count": 41,
   "id": "19c9d11c",
   "metadata": {},
   "outputs": [
    {
     "name": "stdout",
     "output_type": "stream",
     "text": [
      "name: vishal\n",
      "age: 27\n",
      "city: jalna\n",
      "gender: male\n",
      "college: mss\n"
     ]
    }
   ],
   "source": [
    "per_details(gender='male',city='jalna',name='vishal',age=27,college='mss')     # in positional argument no need to remember sequence"
   ]
  },
  {
   "cell_type": "code",
   "execution_count": 51,
   "id": "b50a5812",
   "metadata": {},
   "outputs": [],
   "source": [
    "def details(*test):\n",
    "    print(test)\n",
    "    print(\"name:\",test[0])\n",
    "    print(\"pan:\",test[1])\n",
    "    print(\"addhar:\",test[2])\n",
    "    print(\"sal:\",test[3])\n",
    "    print(\"post:\",test[4])\n",
    "    \n",
    "    "
   ]
  },
  {
   "cell_type": "code",
   "execution_count": 49,
   "id": "1dcabef7",
   "metadata": {},
   "outputs": [
    {
     "name": "stdout",
     "output_type": "stream",
     "text": [
      "('vishal', 'fdrtsdf34', 47586974537478, 300000, 'ml_engineer')\n",
      "name: vishal\n",
      "pan: fdrtsdf34\n",
      "addhar: 47586974537478\n",
      "sal: 300000\n",
      "post: ml_engineer\n"
     ]
    }
   ],
   "source": [
    "details(\"vishal\",\"fdrtsdf34\",47586974537478,300000,\"ml_engineer\")"
   ]
  },
  {
   "cell_type": "code",
   "execution_count": 54,
   "id": "6a73c5b4",
   "metadata": {},
   "outputs": [
    {
     "ename": "TypeError",
     "evalue": "details() got an unexpected keyword argument 'name'",
     "output_type": "error",
     "traceback": [
      "\u001b[1;31m---------------------------------------------------------------------------\u001b[0m",
      "\u001b[1;31mTypeError\u001b[0m                                 Traceback (most recent call last)",
      "\u001b[1;32m~\\AppData\\Local\\Temp\\ipykernel_9536\\1638992561.py\u001b[0m in \u001b[0;36m<module>\u001b[1;34m\u001b[0m\n\u001b[1;32m----> 1\u001b[1;33m \u001b[0mdetails\u001b[0m\u001b[1;33m(\u001b[0m\u001b[0mname\u001b[0m\u001b[1;33m=\u001b[0m\u001b[1;34m'vishal'\u001b[0m\u001b[1;33m,\u001b[0m\u001b[0msal\u001b[0m\u001b[1;33m=\u001b[0m\u001b[1;36m5000000\u001b[0m\u001b[1;33m,\u001b[0m\u001b[0mpost\u001b[0m\u001b[1;33m=\u001b[0m\u001b[1;34m\"mL_engineer\"\u001b[0m\u001b[1;33m,\u001b[0m\u001b[0mpan\u001b[0m\u001b[1;33m=\u001b[0m\u001b[1;34m\"ixrrpk566\"\u001b[0m\u001b[1;33m,\u001b[0m\u001b[0maddhar\u001b[0m\u001b[1;33m=\u001b[0m\u001b[1;36m3476845738\u001b[0m\u001b[1;33m)\u001b[0m\u001b[1;33m\u001b[0m\u001b[1;33m\u001b[0m\u001b[0m\n\u001b[0m\u001b[0;32m      2\u001b[0m \u001b[1;33m\u001b[0m\u001b[0m\n\u001b[0;32m      3\u001b[0m \u001b[1;33m\u001b[0m\u001b[0m\n\u001b[0;32m      4\u001b[0m \u001b[1;33m\u001b[0m\u001b[0m\n",
      "\u001b[1;31mTypeError\u001b[0m: details() got an unexpected keyword argument 'name'"
     ]
    }
   ],
   "source": [
    "details(name='vishal',sal=5000000,post=\"mL_engineer\",pan=\"ixrrpk566\",addhar=3476845738)\n",
    "\n",
    "\n",
    "\n"
   ]
  },
  {
   "cell_type": "code",
   "execution_count": 72,
   "id": "77c66519",
   "metadata": {},
   "outputs": [],
   "source": [
    "def mobile_details(company,name,price=70000,colour=\"black\",*args):\n",
    "    return company,name,price,colour,args\n"
   ]
  },
  {
   "cell_type": "code",
   "execution_count": 76,
   "id": "14e5880c",
   "metadata": {},
   "outputs": [],
   "source": [
    "company,name,price,colour,args = mobile_details('samsung','galaxy',40000,'black',2999,4999,5999,999)"
   ]
  },
  {
   "cell_type": "code",
   "execution_count": 77,
   "id": "f0dbdb30",
   "metadata": {},
   "outputs": [
    {
     "data": {
      "text/plain": [
       "'samsung'"
      ]
     },
     "execution_count": 77,
     "metadata": {},
     "output_type": "execute_result"
    }
   ],
   "source": [
    "company"
   ]
  },
  {
   "cell_type": "code",
   "execution_count": 78,
   "id": "6b2f93dc",
   "metadata": {},
   "outputs": [
    {
     "data": {
      "text/plain": [
       "40000"
      ]
     },
     "execution_count": 78,
     "metadata": {},
     "output_type": "execute_result"
    }
   ],
   "source": [
    "price"
   ]
  },
  {
   "cell_type": "code",
   "execution_count": 79,
   "id": "2cd44121",
   "metadata": {},
   "outputs": [
    {
     "data": {
      "text/plain": [
       "'black'"
      ]
     },
     "execution_count": 79,
     "metadata": {},
     "output_type": "execute_result"
    }
   ],
   "source": [
    "colour"
   ]
  },
  {
   "cell_type": "code",
   "execution_count": 80,
   "id": "b2945109",
   "metadata": {},
   "outputs": [
    {
     "data": {
      "text/plain": [
       "(2999, 4999, 5999, 999)"
      ]
     },
     "execution_count": 80,
     "metadata": {},
     "output_type": "execute_result"
    }
   ],
   "source": [
    "args"
   ]
  },
  {
   "cell_type": "code",
   "execution_count": 81,
   "id": "61a92284",
   "metadata": {},
   "outputs": [
    {
     "data": {
      "text/plain": [
       "'galaxy'"
      ]
     },
     "execution_count": 81,
     "metadata": {},
     "output_type": "execute_result"
    }
   ],
   "source": [
    "name"
   ]
  },
  {
   "cell_type": "code",
   "execution_count": 23,
   "id": "b54a8d29",
   "metadata": {},
   "outputs": [],
   "source": [
    "def per_details(name,adhar,pan,mo_no,post,marks ,email = 'no email',*args,**other):\n",
    "    print(\"name:\",name)\n",
    "    print(\"adhar:\",adhar)\n",
    "    print(\"pan:\",pan)\n",
    "    print(\"mo_no:\",mo_no)\n",
    "    print(\"post:\",post)\n",
    "    print(\"marks:\",marks)\n",
    "    print(\"email:\",email)\n",
    "    print(\"args:\",args)\n",
    "    print(\"other:\",other)"
   ]
  },
  {
   "cell_type": "code",
   "execution_count": 24,
   "id": "33b38fbc",
   "metadata": {},
   "outputs": [
    {
     "name": "stdout",
     "output_type": "stream",
     "text": [
      "name: vishal\n",
      "adhar: 28394756748\n",
      "pan: hfurji56778\n",
      "mo_no: 90867576453\n",
      "post: ml\n",
      "marks: 34\n",
      "email: vishal@gmail.com\n",
      "args: ('vidhsdk57767', 'done')\n",
      "other: {'vihsal': 'jfju'}\n"
     ]
    }
   ],
   "source": [
    "per_details('vishal',28394756748,'hfurji56778',90867576453,'ml',34,'vishal@gmail.com','vidhsdk57767','done',vihsal = 'jfju')"
   ]
  },
  {
   "cell_type": "code",
   "execution_count": 25,
   "id": "675f446e",
   "metadata": {},
   "outputs": [],
   "source": [
    "def per_details(name,adhar,pan,mo_no,post,marks ,email = 'no email',*args,**other):\n",
    "    print(\"name:\",name)\n",
    "    print(\"adhar:\",adhar)\n",
    "    print(\"pan:\",pan)\n",
    "    print(\"mo_no:\",mo_no)\n",
    "    print(\"post:\",post)\n",
    "    print(\"marks:\",marks)\n",
    "    print(\"email:\",email)\n",
    "    print(\"args:\",args)\n",
    "    print(\"other:\",other)\n",
    "    "
   ]
  },
  {
   "cell_type": "code",
   "execution_count": 26,
   "id": "751e3362",
   "metadata": {},
   "outputs": [
    {
     "name": "stdout",
     "output_type": "stream",
     "text": [
      "name: vishal\n",
      "adhar: 123456789098\n",
      "pan: ixrpk4567\n",
      "mo_no: 9822158902\n",
      "post: ml\n",
      "marks: 2344\n",
      "email: no_email\n",
      "args: (2334, 456, 678)\n",
      "other: {'id_': 'jfjfj', 'roll': 990}\n"
     ]
    }
   ],
   "source": [
    "per_details('vishal',123456789098,'ixrpk4567',9822158902,'ml',2344,'no_email',2334,456,678,id_ = 'jfjfj',roll = 990)"
   ]
  },
  {
   "cell_type": "code",
   "execution_count": 27,
   "id": "cf6c2f4e",
   "metadata": {},
   "outputs": [],
   "source": [
    "def test(*args,**kwargs):\n",
    "    print(args,kwargs)"
   ]
  },
  {
   "cell_type": "code",
   "execution_count": 137,
   "id": "139c98ca",
   "metadata": {},
   "outputs": [
    {
     "name": "stdout",
     "output_type": "stream",
     "text": [
      "(90, 90, 90, 90) {'id': 'visj@yuu', 'password': 'vishal8988'}\n"
     ]
    }
   ],
   "source": [
    "test(90,90,90,90,id = \"visj@yuu\",password = \"vishal8988\")"
   ]
  },
  {
   "cell_type": "code",
   "execution_count": 174,
   "id": "e20c838f",
   "metadata": {},
   "outputs": [],
   "source": [
    "a = 20\n",
    "def test():\n",
    "    a = 400\n",
    "    print(test)\n",
    "    \n",
    "    \n",
    "    "
   ]
  },
  {
   "cell_type": "code",
   "execution_count": 175,
   "id": "347d5221",
   "metadata": {},
   "outputs": [
    {
     "data": {
      "text/plain": [
       "20"
      ]
     },
     "execution_count": 175,
     "metadata": {},
     "output_type": "execute_result"
    }
   ],
   "source": [
    "a"
   ]
  },
  {
   "cell_type": "code",
   "execution_count": 178,
   "id": "381645f3",
   "metadata": {},
   "outputs": [],
   "source": [
    "py_ = 'vishal'\n",
    "def vi_():\n",
    "    py_ = 'nishnaat'\n",
    "    print(vi_)"
   ]
  },
  {
   "cell_type": "code",
   "execution_count": 183,
   "id": "b43fc240",
   "metadata": {},
   "outputs": [
    {
     "data": {
      "text/plain": [
       "'vishal'"
      ]
     },
     "execution_count": 183,
     "metadata": {},
     "output_type": "execute_result"
    }
   ],
   "source": [
    "py_\n"
   ]
  },
  {
   "cell_type": "code",
   "execution_count": 208,
   "id": "7f18e22f",
   "metadata": {},
   "outputs": [],
   "source": [
    "course = 'python'\n",
    "def m1():\n",
    "    course = 'java'\n",
    "    print(\"course:\",course)\n",
    "def m2():\n",
    "    \n",
    "    course = 'hadoop'\n",
    "def m3():\n",
    "    print(\"value of course:\",course)\n",
    "def m4():\n",
    "    print(\"value of course:\",course)\n",
    "    "
   ]
  },
  {
   "cell_type": "code",
   "execution_count": 209,
   "id": "63ff83e5",
   "metadata": {},
   "outputs": [
    {
     "name": "stdout",
     "output_type": "stream",
     "text": [
      "course: java\n"
     ]
    }
   ],
   "source": [
    "m1()"
   ]
  },
  {
   "cell_type": "code",
   "execution_count": 210,
   "id": "13e67742",
   "metadata": {},
   "outputs": [],
   "source": [
    "m2()"
   ]
  },
  {
   "cell_type": "code",
   "execution_count": 211,
   "id": "d6dc9665",
   "metadata": {},
   "outputs": [
    {
     "name": "stdout",
     "output_type": "stream",
     "text": [
      "value of course: python\n"
     ]
    }
   ],
   "source": [
    "m3()"
   ]
  },
  {
   "cell_type": "code",
   "execution_count": 212,
   "id": "a43a8a63",
   "metadata": {},
   "outputs": [
    {
     "name": "stdout",
     "output_type": "stream",
     "text": [
      "value of course: python\n"
     ]
    }
   ],
   "source": [
    "m4()"
   ]
  },
  {
   "cell_type": "code",
   "execution_count": 213,
   "id": "d4a92cd2",
   "metadata": {},
   "outputs": [
    {
     "data": {
      "text/plain": [
       "'python'"
      ]
     },
     "execution_count": 213,
     "metadata": {},
     "output_type": "execute_result"
    }
   ],
   "source": [
    "course"
   ]
  },
  {
   "cell_type": "code",
   "execution_count": 214,
   "id": "8177fa81",
   "metadata": {},
   "outputs": [],
   "source": [
    "course = 'python'\n",
    "def m1():\n",
    "    course = 'java'\n",
    "    print(\"course:\",course)\n",
    "def m2():\n",
    "    global course\n",
    "    course = 'hadoop'\n",
    "def m3():\n",
    "    print(\"value of course:\",course)\n",
    "def m4():\n",
    "    print(\"value of course:\",course)"
   ]
  },
  {
   "cell_type": "code",
   "execution_count": 215,
   "id": "8dae07f8",
   "metadata": {},
   "outputs": [
    {
     "name": "stdout",
     "output_type": "stream",
     "text": [
      "course: java\n"
     ]
    }
   ],
   "source": [
    "m1()"
   ]
  },
  {
   "cell_type": "code",
   "execution_count": 216,
   "id": "17f9061e",
   "metadata": {},
   "outputs": [],
   "source": [
    "m2()"
   ]
  },
  {
   "cell_type": "code",
   "execution_count": 217,
   "id": "e40ef1d4",
   "metadata": {},
   "outputs": [
    {
     "name": "stdout",
     "output_type": "stream",
     "text": [
      "value of course: hadoop\n"
     ]
    }
   ],
   "source": [
    "m3()"
   ]
  },
  {
   "cell_type": "code",
   "execution_count": 218,
   "id": "20a513ee",
   "metadata": {},
   "outputs": [
    {
     "name": "stdout",
     "output_type": "stream",
     "text": [
      "value of course: hadoop\n"
     ]
    }
   ],
   "source": [
    "m4()"
   ]
  },
  {
   "cell_type": "code",
   "execution_count": 219,
   "id": "26b15bb6",
   "metadata": {},
   "outputs": [
    {
     "data": {
      "text/plain": [
       "'hadoop'"
      ]
     },
     "execution_count": 219,
     "metadata": {},
     "output_type": "execute_result"
    }
   ],
   "source": [
    "course"
   ]
  },
  {
   "cell_type": "code",
   "execution_count": 222,
   "id": "feefce71",
   "metadata": {},
   "outputs": [],
   "source": [
    "def t1():\n",
    "    print(\"username:\",username)\n",
    "    print(\"password:\",password)\n",
    "def main():\n",
    "    global username,password\n",
    "    username = \"vishal898\"\n",
    "    password = \"cishal8988\"\n",
    "    print(\"rest of code\")\n",
    "\n",
    "    "
   ]
  },
  {
   "cell_type": "code",
   "execution_count": 223,
   "id": "e522f338",
   "metadata": {},
   "outputs": [
    {
     "name": "stdout",
     "output_type": "stream",
     "text": [
      "rest of code\n"
     ]
    }
   ],
   "source": [
    "main()"
   ]
  },
  {
   "cell_type": "code",
   "execution_count": 224,
   "id": "07f3a5a2",
   "metadata": {},
   "outputs": [
    {
     "data": {
      "text/plain": [
       "'vishal898'"
      ]
     },
     "execution_count": 224,
     "metadata": {},
     "output_type": "execute_result"
    }
   ],
   "source": [
    "username"
   ]
  },
  {
   "cell_type": "code",
   "execution_count": 226,
   "id": "1d284557",
   "metadata": {},
   "outputs": [
    {
     "data": {
      "text/plain": [
       "'cishal8988'"
      ]
     },
     "execution_count": 226,
     "metadata": {},
     "output_type": "execute_result"
    }
   ],
   "source": [
    "password"
   ]
  },
  {
   "cell_type": "code",
   "execution_count": 236,
   "id": "14bf4463",
   "metadata": {},
   "outputs": [
    {
     "name": "stdout",
     "output_type": "stream",
     "text": [
      "username: vishal898\n",
      "password: cishal8988\n"
     ]
    }
   ],
   "source": [
    "t1()"
   ]
  },
  {
   "cell_type": "code",
   "execution_count": 231,
   "id": "c4fd97b0",
   "metadata": {},
   "outputs": [],
   "source": [
    "def r1():\n",
    "    print(\"j:\",j)\n",
    "    print(\"f:\",f)\n",
    "def main():\n",
    "    global j,f\n",
    "    j = 'k'\n",
    "    f = 'l'\n",
    "    print(\"code\")\n",
    "    "
   ]
  },
  {
   "cell_type": "code",
   "execution_count": 232,
   "id": "5f13d896",
   "metadata": {},
   "outputs": [
    {
     "name": "stdout",
     "output_type": "stream",
     "text": [
      "code\n"
     ]
    }
   ],
   "source": [
    "main()"
   ]
  },
  {
   "cell_type": "code",
   "execution_count": 233,
   "id": "75526d77",
   "metadata": {},
   "outputs": [
    {
     "data": {
      "text/plain": [
       "'k'"
      ]
     },
     "execution_count": 233,
     "metadata": {},
     "output_type": "execute_result"
    }
   ],
   "source": [
    "j"
   ]
  },
  {
   "cell_type": "code",
   "execution_count": 234,
   "id": "2c655161",
   "metadata": {},
   "outputs": [
    {
     "data": {
      "text/plain": [
       "'l'"
      ]
     },
     "execution_count": 234,
     "metadata": {},
     "output_type": "execute_result"
    }
   ],
   "source": [
    "f"
   ]
  },
  {
   "cell_type": "code",
   "execution_count": 235,
   "id": "fb72840e",
   "metadata": {},
   "outputs": [
    {
     "name": "stdout",
     "output_type": "stream",
     "text": [
      "j: k\n",
      "f: l\n"
     ]
    }
   ],
   "source": [
    "r1()"
   ]
  },
  {
   "cell_type": "code",
   "execution_count": 21,
   "id": "e1361bf3",
   "metadata": {},
   "outputs": [],
   "source": [
    "def my_function(first_name,last_name):\n",
    "    print(\"first name\",first_name)\n",
    "    print(\"last name\",last_name)\n",
    "    "
   ]
  },
  {
   "cell_type": "code",
   "execution_count": 22,
   "id": "1b880a83",
   "metadata": {},
   "outputs": [
    {
     "name": "stdout",
     "output_type": "stream",
     "text": [
      "first name vishal\n",
      "last name kalkumbe\n"
     ]
    }
   ],
   "source": [
    "my_function(\"vishal\",\"kalkumbe\")"
   ]
  },
  {
   "cell_type": "code",
   "execution_count": 55,
   "id": "c825c7bc",
   "metadata": {},
   "outputs": [],
   "source": [
    "def full_name(first_name,last_name):\n",
    "    if first_name == 'vishal':\n",
    "        if last_name == 'kalkumbe':\n",
    "            return 'True'\n",
    "        else:\n",
    "            return 'False'\n",
    "def correct():\n",
    "    print('correct name')\n",
    "def wrong():\n",
    "    print(\"wrong name\")\n",
    "def main():\n",
    "    first_name = input('enter the first_name:---')\n",
    "    last_name = input(\"enter the last_name:----\")\n",
    "    status = full_name(first_name,last_name)\n",
    "    if status == 'True':\n",
    "         print(\"program proceed\")\n",
    "         correct()\n",
    "    else: \n",
    "         print(\"wrong name\")\n",
    "         wrong()\n",
    "            \n",
    "    \n",
    "    "
   ]
  },
  {
   "cell_type": "code",
   "execution_count": 56,
   "id": "76e53c5e",
   "metadata": {},
   "outputs": [
    {
     "name": "stdout",
     "output_type": "stream",
     "text": [
      "enter the first_name:---vishal\n",
      "enter the last_name:----kalkumbe\n",
      "program proceed\n",
      "correct name\n"
     ]
    }
   ],
   "source": [
    "main()"
   ]
  },
  {
   "cell_type": "code",
   "execution_count": 18,
   "id": "67e83bf3",
   "metadata": {},
   "outputs": [],
   "source": [
    "def names(vishal,vitthal,avi,kailas:'no post',shard,gorakh):\n",
    "    print('vishal:',vishal)\n",
    "    print('vitthal:',vitthal)\n",
    "    print('avi:',avi)\n",
    "    print('kailas:',kailas)\n",
    "    print('shard:',shard)\n",
    "    print('gorakh:',gorakh)"
   ]
  },
  {
   "cell_type": "code",
   "execution_count": 22,
   "id": "17c057c9",
   "metadata": {},
   "outputs": [
    {
     "name": "stdout",
     "output_type": "stream",
     "text": [
      "vishal: ml\n",
      "vitthal: afo\n",
      "avi: po\n",
      "kailas: no post\n",
      "shard: mr\n",
      "gorakh: farmer\n"
     ]
    }
   ],
   "source": [
    "names('ml','afo','po','no post','mr','farmer')"
   ]
  },
  {
   "cell_type": "code",
   "execution_count": 2,
   "id": "3c87bddc",
   "metadata": {},
   "outputs": [],
   "source": [
    "def add(a,b):\n",
    "    c =a +b \n",
    "    print(c)"
   ]
  },
  {
   "cell_type": "code",
   "execution_count": 5,
   "id": "1e5e2ece",
   "metadata": {},
   "outputs": [
    {
     "name": "stdout",
     "output_type": "stream",
     "text": [
      "enter the value..55\n",
      "enter the value...55\n",
      "110\n"
     ]
    }
   ],
   "source": [
    "x = int(input(\"enter the value..\"))\n",
    "y = int(input(\"enter the value...\"))\n",
    "add(x,y)"
   ]
  },
  {
   "cell_type": "code",
   "execution_count": 6,
   "id": "b280a5f5",
   "metadata": {},
   "outputs": [],
   "source": [
    "def multi(a,b):\n",
    "    c = a*b\n",
    "    print(c)"
   ]
  },
  {
   "cell_type": "code",
   "execution_count": 7,
   "id": "fdc18a82",
   "metadata": {},
   "outputs": [
    {
     "name": "stdout",
     "output_type": "stream",
     "text": [
      "enter the value...90\n",
      "enter the value...90\n",
      "8100\n"
     ]
    }
   ],
   "source": [
    "x = int(input('enter the value...'))\n",
    "y = int(input('enter the value...'))\n",
    "multi(x,y)"
   ]
  },
  {
   "cell_type": "code",
   "execution_count": 1,
   "id": "216363a2",
   "metadata": {},
   "outputs": [
    {
     "name": "stdout",
     "output_type": "stream",
     "text": [
      "my name is vishal\n"
     ]
    }
   ],
   "source": [
    "def my_fun():       # create function and calling function\n",
    "    print(\"my name is vishal\")\n",
    "my_fun()"
   ]
  },
  {
   "cell_type": "code",
   "execution_count": 7,
   "id": "22aa77a6",
   "metadata": {},
   "outputs": [
    {
     "name": "stdout",
     "output_type": "stream",
     "text": [
      "kalkumbe  vishal\n",
      "patil  jivan\n",
      "sawant   aakash\n"
     ]
    }
   ],
   "source": [
    "def my_func(l_name,f_name):                  # information can be passed into function as argument\n",
    "    print(l_name +\"  \"+ f_name)      # we can add as many argument as we want , just we have seperate a comma.\n",
    "my_func(\"kalkumbe\",\"vishal\")\n",
    "my_func(\"patil\",\"jivan\")\n",
    "my_func(\"sawant\",\" aakash\")\n"
   ]
  },
  {
   "cell_type": "code",
   "execution_count": 8,
   "id": "f27c019a",
   "metadata": {},
   "outputs": [
    {
     "name": "stdout",
     "output_type": "stream",
     "text": [
      "enter the value :  55\n",
      "enter the value :  66\n",
      "121\n"
     ]
    }
   ],
   "source": [
    "def add():                                  # no argument no returns value\n",
    "    x = int(input(\"enter the value :  \"))\n",
    "    y = int(input(\"enter the value :  \"))\n",
    "    print(x+y)\n",
    "add()\n",
    "    "
   ]
  },
  {
   "cell_type": "code",
   "execution_count": 9,
   "id": "8d884e35",
   "metadata": {},
   "outputs": [
    {
     "name": "stdout",
     "output_type": "stream",
     "text": [
      "100\n"
     ]
    }
   ],
   "source": [
    "def add(x,y):      # with argument no returns values\n",
    "    print(x+y)\n",
    "add(50,50)"
   ]
  },
  {
   "cell_type": "code",
   "execution_count": 10,
   "id": "800ef6d7",
   "metadata": {},
   "outputs": [
    {
     "name": "stdout",
     "output_type": "stream",
     "text": [
      "addition of  x and y is 60\n"
     ]
    }
   ],
   "source": [
    "def add(x,y):      # with argument and with returns values\n",
    "    z = x+y\n",
    "    print(\"addition of  x and y is\",z)\n",
    "add(30,30)"
   ]
  },
  {
   "cell_type": "code",
   "execution_count": 12,
   "id": "209375b2",
   "metadata": {},
   "outputs": [
    {
     "name": "stdout",
     "output_type": "stream",
     "text": [
      "enter the first name :  40\n",
      "enter the second value : 90\n",
      "addition of x and y is  130\n"
     ]
    }
   ],
   "source": [
    "def add():                                      # no argument with returns values \n",
    "    x = int(input(\"enter the first name :  \"))\n",
    "\n",
    "    y = int(input(\"enter the second value : \"))\n",
    "    \n",
    "    z = x+y\n",
    "    print(\"addition of x and y is \",z)\n",
    "    \n",
    "add()"
   ]
  },
  {
   "cell_type": "code",
   "execution_count": 24,
   "id": "ad5dfe4b",
   "metadata": {},
   "outputs": [],
   "source": [
    "def person(name,age,sal ,gender):\n",
    "    print('name:', name)\n",
    "    print(\"age:\",age)\n",
    "    print(\"sal:\" ,sal)\n",
    "    print(\"gender:\",gender)\n",
    "    "
   ]
  },
  {
   "cell_type": "code",
   "execution_count": 25,
   "id": "71f0e7d5",
   "metadata": {},
   "outputs": [
    {
     "name": "stdout",
     "output_type": "stream",
     "text": [
      "name: vishal\n",
      "age: 34\n",
      "sal: 50000\n",
      "gender: male\n"
     ]
    }
   ],
   "source": [
    "person(\"vishal\", 34,50000,\"male\")"
   ]
  },
  {
   "cell_type": "code",
   "execution_count": 40,
   "id": "634275ce",
   "metadata": {},
   "outputs": [],
   "source": [
    "def fun(country = \"india\"):\n",
    "    print(\"i am from  \",country)\n",
    "    print(\"country:\",country)\n",
    "    country = \"us\"\n",
    "    print(\"im from \",country)"
   ]
  },
  {
   "cell_type": "code",
   "execution_count": 41,
   "id": "c0f850e1",
   "metadata": {},
   "outputs": [
    {
     "name": "stdout",
     "output_type": "stream",
     "text": [
      "i am from   india\n",
      "country: india\n",
      "im from  us\n"
     ]
    }
   ],
   "source": [
    "fun()"
   ]
  },
  {
   "cell_type": "code",
   "execution_count": null,
   "id": "bd0a5b48",
   "metadata": {},
   "outputs": [],
   "source": []
  },
  {
   "cell_type": "code",
   "execution_count": null,
   "id": "7c52ec3a",
   "metadata": {},
   "outputs": [],
   "source": []
  },
  {
   "cell_type": "code",
   "execution_count": null,
   "id": "cdb0681b",
   "metadata": {},
   "outputs": [],
   "source": []
  }
 ],
 "metadata": {
  "kernelspec": {
   "display_name": "Python 3 (ipykernel)",
   "language": "python",
   "name": "python3"
  },
  "language_info": {
   "codemirror_mode": {
    "name": "ipython",
    "version": 3
   },
   "file_extension": ".py",
   "mimetype": "text/x-python",
   "name": "python",
   "nbconvert_exporter": "python",
   "pygments_lexer": "ipython3",
   "version": "3.9.13"
  }
 },
 "nbformat": 4,
 "nbformat_minor": 5
}
