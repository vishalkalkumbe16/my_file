{
 "cells": [
  {
   "cell_type": "code",
   "execution_count": 11,
   "id": "532aadd2",
   "metadata": {},
   "outputs": [
    {
     "name": "stdout",
     "output_type": "stream",
     "text": [
      "5\n"
     ]
    }
   ],
   "source": [
    "class my_class():        # to create class \n",
    "    x = 5 \n",
    "    print(x)"
   ]
  },
  {
   "cell_type": "code",
   "execution_count": 18,
   "id": "01ef0900",
   "metadata": {},
   "outputs": [
    {
     "name": "stdout",
     "output_type": "stream",
     "text": [
      "5\n"
     ]
    }
   ],
   "source": [
    "p1 = my_class()             # to create object\n",
    "print (p1.x)"
   ]
  },
  {
   "cell_type": "code",
   "execution_count": 27,
   "id": "976980fc",
   "metadata": {},
   "outputs": [
    {
     "name": "stdout",
     "output_type": "stream",
     "text": [
      "vishal\n",
      "250000\n"
     ]
    }
   ],
   "source": [
    "class person():\n",
    "    def __init__(self,name,sal):\n",
    "        self.name = name\n",
    "        self.sal = sal\n",
    "        \n",
    "p1 =  person('vishal',250000)\n",
    "print(p1.name)\n",
    "print(p1.sal)\n"
   ]
  },
  {
   "cell_type": "code",
   "execution_count": 33,
   "id": "861676a9",
   "metadata": {},
   "outputs": [
    {
     "name": "stdout",
     "output_type": "stream",
     "text": [
      "vishal\n",
      "25\n"
     ]
    }
   ],
   "source": [
    "class person_details():\n",
    "    def __init__(self,name,age):\n",
    "        self.name = name\n",
    "        self.age = age\n",
    "    \n",
    "p1 = person_details(\"vishal\",25)\n",
    "print(p1.name)\n",
    "print(p1.age)\n",
    "\n"
   ]
  },
  {
   "cell_type": "code",
   "execution_count": 38,
   "id": "bcfb2f4f",
   "metadata": {},
   "outputs": [
    {
     "name": "stdout",
     "output_type": "stream",
     "text": [
      "2345678990\n",
      "ridjru567\n",
      "50000\n"
     ]
    }
   ],
   "source": [
    "class person():\n",
    "      def __init__(self,adhar,pan,sal):\n",
    "        self.adhar = adhar\n",
    "        self.pan = pan\n",
    "        self.sal = sal\n",
    "p2 = person(2345678990,\"ridjru567\",50000)\n",
    "print(p2.adhar)\n",
    "print(p2.pan)\n",
    "print(p2.sal)\n"
   ]
  },
  {
   "cell_type": "code",
   "execution_count": null,
   "id": "9fc82cb4",
   "metadata": {},
   "outputs": [],
   "source": []
  },
  {
   "cell_type": "code",
   "execution_count": 46,
   "id": "e86ee2f5",
   "metadata": {},
   "outputs": [
    {
     "name": "stdout",
     "output_type": "stream",
     "text": [
      "my name is vishal kalkumbe\n"
     ]
    }
   ],
   "source": [
    "class person():\n",
    "    def __init__(self,first_name,last_name):\n",
    "        self.first_name = first_name\n",
    "        self.last_name = last_name\n",
    "    def str(n):\n",
    "        print(\"my name is \"+ \"\" + n.first_name, n.last_name)\n",
    "obj = person(\"vishal\",\"kalkumbe\")\n",
    "obj.str()"
   ]
  },
  {
   "cell_type": "code",
   "execution_count": null,
   "id": "1f565de4",
   "metadata": {},
   "outputs": [],
   "source": []
  },
  {
   "cell_type": "code",
   "execution_count": null,
   "id": "d68a8aa4",
   "metadata": {},
   "outputs": [],
   "source": []
  },
  {
   "cell_type": "code",
   "execution_count": null,
   "id": "d42b38c7",
   "metadata": {},
   "outputs": [],
   "source": []
  },
  {
   "cell_type": "code",
   "execution_count": null,
   "id": "f2352cd2",
   "metadata": {},
   "outputs": [],
   "source": []
  },
  {
   "cell_type": "code",
   "execution_count": 40,
   "id": "f382b01c",
   "metadata": {},
   "outputs": [
    {
     "name": "stdout",
     "output_type": "stream",
     "text": [
      "vishal\n",
      "kalkumbe\n"
     ]
    }
   ],
   "source": [
    "class person():\n",
    "    def __init__(self,first_name,last_name):\n",
    "        self.first_name = first_name\n",
    "        self.last_name = last_name\n",
    "obj = person(\"vishal\",\"kalkumbe\")\n",
    "print(obj.first_name)\n",
    "print(obj.last_name)"
   ]
  },
  {
   "cell_type": "code",
   "execution_count": 8,
   "id": "4abea49a",
   "metadata": {},
   "outputs": [
    {
     "ename": "NameError",
     "evalue": "name 'fun' is not defined",
     "output_type": "error",
     "traceback": [
      "\u001b[1;31m---------------------------------------------------------------------------\u001b[0m",
      "\u001b[1;31mNameError\u001b[0m                                 Traceback (most recent call last)",
      "\u001b[1;32m~\\AppData\\Local\\Temp\\ipykernel_19872\\1604207807.py\u001b[0m in \u001b[0;36m<module>\u001b[1;34m\u001b[0m\n\u001b[0;32m      5\u001b[0m \u001b[1;33m\u001b[0m\u001b[0m\n\u001b[0;32m      6\u001b[0m \u001b[1;33m\u001b[0m\u001b[0m\n\u001b[1;32m----> 7\u001b[1;33m \u001b[0mb\u001b[0m \u001b[1;33m=\u001b[0m \u001b[0mfun\u001b[0m\u001b[1;33m(\u001b[0m\u001b[1;33m)\u001b[0m\u001b[1;33m\u001b[0m\u001b[1;33m\u001b[0m\u001b[0m\n\u001b[0m\u001b[0;32m      8\u001b[0m \u001b[0mprint\u001b[0m\u001b[1;33m(\u001b[0m\u001b[0mb\u001b[0m\u001b[1;33m.\u001b[0m\u001b[0mname\u001b[0m\u001b[1;33m)\u001b[0m\u001b[1;33m\u001b[0m\u001b[1;33m\u001b[0m\u001b[0m\n\u001b[0;32m      9\u001b[0m \u001b[1;33m\u001b[0m\u001b[0m\n",
      "\u001b[1;31mNameError\u001b[0m: name 'fun' is not defined"
     ]
    }
   ],
   "source": [
    "class per:\n",
    "    def fun():\n",
    "        name = \"vishal\"\n",
    "        pas = \"vishal8989\"\n",
    "        \n",
    "        \n",
    "b = fun()\n",
    "print(b.name)\n",
    "\n"
   ]
  },
  {
   "cell_type": "code",
   "execution_count": 14,
   "id": "5722645a",
   "metadata": {},
   "outputs": [
    {
     "name": "stdout",
     "output_type": "stream",
     "text": [
      "500\n",
      "100\n",
      "500\n",
      "600\n"
     ]
    }
   ],
   "source": [
    "class temp():   \n",
    "    a = 100       # static method\n",
    "    def m1(self):\n",
    "        x = 500\n",
    "        print(x)\n",
    "        print(temp.a)\n",
    "    @classmethod\n",
    "    def test(cls):\n",
    "        cls.a = 600\n",
    "obj = temp()\n",
    "obj.m1()\n",
    "temp.test()\n",
    "obj.m1()\n"
   ]
  },
  {
   "cell_type": "code",
   "execution_count": 17,
   "id": "3068b350",
   "metadata": {},
   "outputs": [
    {
     "name": "stdout",
     "output_type": "stream",
     "text": [
      "50\n",
      "10\n",
      "50\n",
      "800\n"
     ]
    },
    {
     "ename": "TypeError",
     "evalue": "unhashable type: 'list'",
     "output_type": "error",
     "traceback": [
      "\u001b[1;31m---------------------------------------------------------------------------\u001b[0m",
      "\u001b[1;31mTypeError\u001b[0m                                 Traceback (most recent call last)",
      "\u001b[1;32m~\\AppData\\Local\\Temp\\ipykernel_74140\\1848034683.py\u001b[0m in \u001b[0;36m<module>\u001b[1;34m\u001b[0m\n\u001b[0;32m      9\u001b[0m         \u001b[0mcls\u001b[0m\u001b[1;33m.\u001b[0m\u001b[0ma\u001b[0m \u001b[1;33m=\u001b[0m \u001b[1;36m800\u001b[0m\u001b[1;33m\u001b[0m\u001b[1;33m\u001b[0m\u001b[0m\n\u001b[0;32m     10\u001b[0m \u001b[0mo\u001b[0m \u001b[1;33m=\u001b[0m \u001b[0mnum\u001b[0m\u001b[1;33m(\u001b[0m\u001b[1;33m)\u001b[0m\u001b[1;33m\u001b[0m\u001b[1;33m\u001b[0m\u001b[0m\n\u001b[1;32m---> 11\u001b[1;33m \u001b[1;33m{\u001b[0m\u001b[1;33m[\u001b[0m\u001b[0mo\u001b[0m\u001b[1;33m.\u001b[0m\u001b[0mm1\u001b[0m\u001b[1;33m(\u001b[0m\u001b[1;33m)\u001b[0m\u001b[1;33m,\u001b[0m\u001b[0mnum\u001b[0m\u001b[1;33m.\u001b[0m\u001b[0mtst\u001b[0m\u001b[1;33m(\u001b[0m\u001b[1;33m)\u001b[0m\u001b[1;33m,\u001b[0m\u001b[0mo\u001b[0m\u001b[1;33m.\u001b[0m\u001b[0mm1\u001b[0m\u001b[1;33m(\u001b[0m\u001b[1;33m)\u001b[0m\u001b[1;33m]\u001b[0m\u001b[1;33m}\u001b[0m\u001b[1;33m\u001b[0m\u001b[1;33m\u001b[0m\u001b[0m\n\u001b[0m",
      "\u001b[1;31mTypeError\u001b[0m: unhashable type: 'list'"
     ]
    }
   ],
   "source": [
    "class num():\n",
    "    a = 10\n",
    "    def m1(self):\n",
    "        d = 50\n",
    "        print(d)\n",
    "        print(num.a)\n",
    "    @classmethod\n",
    "    def tst(cls):\n",
    "        cls.a = 800\n",
    "o = num()\n",
    "o.m1(),num.tst(),o.m1()\n"
   ]
  },
  {
   "cell_type": "code",
   "execution_count": 8,
   "id": "f910d40d",
   "metadata": {},
   "outputs": [
    {
     "name": "stdout",
     "output_type": "stream",
     "text": [
      " m1 from z\n",
      "m1 from d\n"
     ]
    }
   ],
   "source": [
    "class fI():\n",
    "    def init(self):\n",
    "        print(\"m1 from d\")\n",
    "    def z(self):\n",
    "        print(\" m1 from z\")\n",
    "        \n",
    "        \n",
    "obj = fI()\n",
    "obj.z()\n",
    "obj.init()\n",
    "        \n",
    "\n",
    "    \n",
    "\n",
    "\n",
    "\n",
    "  \n",
    " \n",
    " \n",
    " "
   ]
  },
  {
   "cell_type": "code",
   "execution_count": null,
   "id": "6a968281",
   "metadata": {},
   "outputs": [],
   "source": []
  }
 ],
 "metadata": {
  "kernelspec": {
   "display_name": "Python 3 (ipykernel)",
   "language": "python",
   "name": "python3"
  },
  "language_info": {
   "codemirror_mode": {
    "name": "ipython",
    "version": 3
   },
   "file_extension": ".py",
   "mimetype": "text/x-python",
   "name": "python",
   "nbconvert_exporter": "python",
   "pygments_lexer": "ipython3",
   "version": "3.9.13"
  }
 },
 "nbformat": 4,
 "nbformat_minor": 5
}
